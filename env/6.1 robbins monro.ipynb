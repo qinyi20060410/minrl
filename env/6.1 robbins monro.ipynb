{
 "cells": [
  {
   "cell_type": "markdown",
   "id": "26a1fdb7",
   "metadata": {},
   "source": [
    "定义式：直接求平均\n",
    "\n",
    "$w_{k+1}^{} = \\frac{1}{k} \\sum_{i=1}^{k} x_{i} , k=1,2,...n$"
   ]
  },
  {
   "cell_type": "code",
   "execution_count": null,
   "id": "5a1d04a8",
   "metadata": {},
   "outputs": [
    {
     "data": {
      "image/png": "[encoded data removed]",
      "text/plain": [
       "<Figure size 640x480 with 1 Axes>"
      ]
     },
     "metadata": {},
     "output_type": "display_data"
    }
   ],
   "source": [
    "import numpy as np\n",
    "import matplotlib.pyplot as plt\n",
    "def f(x):\n",
    "    return x**3-5\n",
    "\n",
    "x = np.random.normal(10, 1, 10000) # 均值，方差，个数\n",
    "plt.hist(x, bins=100, range=(0, 20), edgecolor='black')\n",
    "plt.show()"
   ]
  },
  {
   "cell_type": "code",
   "execution_count": 2,
   "id": "d3cd2b55",
   "metadata": {},
   "outputs": [
    {
     "data": {
      "text/plain": [
       "np.float64(1027.9092691251192)"
      ]
     },
     "execution_count": 2,
     "metadata": {},
     "output_type": "execute_result"
    }
   ],
   "source": [
    "f(x).mean()"
   ]
  },
  {
   "cell_type": "markdown",
   "id": "32517bf6",
   "metadata": {},
   "source": [
    "迭代式\n",
    "\n",
    "$w_{k+1}^{} = \\frac{1}{k} \\sum_{i=1}^{k} x_{i} , k=1,2,...n$\n",
    "\n",
    "$w_{k}^{} = \\frac{1}{k-1} \\sum_{i=1}^{k-1} x_{i} ,  k=2,3,...n$\n",
    "\n",
    "$w_{k+1}^{} = \\frac{1}{k} \\sum_{i=1}^{k} = \\frac{1}{k}(\\sum_{i=1}^{k-1} x_{i} +  x_{k})=\\frac{1}{k}((k-1)w_{k} + x_{k})=w_{k} - \\frac{1}{k}(w_{k}-x_{k})$"
   ]
  },
  {
   "cell_type": "code",
   "execution_count": 3,
   "id": "ae1c9a6f",
   "metadata": {},
   "outputs": [
    {
     "name": "stdout",
     "output_type": "stream",
     "text": [
      "1027.9128001344093\n"
     ]
    }
   ],
   "source": [
    "w = 0\n",
    "for k in range(1, 10000):\n",
    "    w = w - 1/k * (w - f(x[k-1]))\n",
    "print(w)"
   ]
  },
  {
   "cell_type": "markdown",
   "id": "cf61ccab",
   "metadata": {},
   "source": [
    "Robbins-Monro\n",
    "\n",
    "$w_{k+1} = w_{k} - a_{k}\\widetilde{g} (w_{k},\\eta_{k}), k=1,2,3...$\n"
   ]
  },
  {
   "cell_type": "code",
   "execution_count": 11,
   "id": "ad560dc3",
   "metadata": {},
   "outputs": [
    {
     "name": "stdout",
     "output_type": "stream",
     "text": [
      "10.0\n",
      "[505.0, 257.5, 133.75, 71.875, 40.9375, 25.46875, 17.734375, 13.8671875, 11.93359375, 10.966796875, 10.4833984375, 10.24169921875, 10.120849609375, 10.0604248046875, 10.03021240234375, 10.015106201171875, 10.007553100585938, 10.003776550292969, 10.001888275146484, 10.000944137573242]\n"
     ]
    }
   ],
   "source": [
    "f = lambda x: x - 10\n",
    "w = 1000\n",
    "a = 0.5\n",
    "tmp = []\n",
    "for i in range(65535):\n",
    "    w = w - a * f(w)\n",
    "    tmp.append(w)\n",
    "print(w)\n",
    "print(tmp[:20])"
   ]
  },
  {
   "cell_type": "code",
   "execution_count": 12,
   "id": "ff79b1cb",
   "metadata": {},
   "outputs": [
    {
     "name": "stdout",
     "output_type": "stream",
     "text": [
      "1.709975946676698\n",
      "[-1.0, 2.0, 1.0, 2.0, 1.4, 1.776, 1.6900262034285713, 1.7116470131387955, 1.7100166782797486, 1.7099809474497056, 1.7099769595246843, 1.7099762191278756, 1.7099760352850588, 1.7099759797652512, 1.709975960414947, 1.7099759528829057, 1.7099759496804825, 1.7099759482166288, 1.7099759475056624, 1.709975947142076]\n"
     ]
    }
   ],
   "source": [
    "f = lambda x: x**3 - 5  # f(x) = x^3-5\n",
    "w = 2\n",
    "tmp = []\n",
    "for i in range(65535):\n",
    "    w = w - 1 / (i + 1) * f(w)\n",
    "    # w = w - 0.5 * f(w)\n",
    "    tmp.append(w)\n",
    "print(w)\n",
    "print(tmp[:20])\n"
   ]
  },
  {
   "cell_type": "code",
   "execution_count": 13,
   "id": "111e1047",
   "metadata": {},
   "outputs": [
    {
     "name": "stdout",
     "output_type": "stream",
     "text": [
      "1.000000000000111\n",
      "[99.9984393043398, 99.99687860883881, 99.99531791349706, 99.99375721831454, 99.99219652329126, 99.99063582842722, 99.98907513372242, 99.98751443917689, 99.98595374479062, 99.98439305056361, 99.98283235649588, 99.98127166258742, 99.97971096883823, 99.97815027524834, 99.97658958181773, 99.97502888854642, 99.9734681954344, 99.9719075024817, 99.9703468096883, 99.96878611705421]\n"
     ]
    }
   ],
   "source": [
    "import math\n",
    "\n",
    "f = lambda x: math.atan(x - 1)  # f(x) = atan(x-1)\n",
    "\n",
    "w = 100\n",
    "tmp = []\n",
    "for i in range(655300):\n",
    "    w = w - 1 / 1000 * f(w)  #\n",
    "    tmp.append(w)\n",
    "print(w)\n",
    "print(tmp[:20])\n"
   ]
  },
  {
   "cell_type": "code",
   "execution_count": null,
   "id": "02d9e761",
   "metadata": {},
   "outputs": [],
   "source": []
  }
 ],
 "metadata": {
  "kernelspec": {
   "display_name": "pytorch",
   "language": "python",
   "name": "python3"
  },
  "language_info": {
   "codemirror_mode": {
    "name": "ipython",
    "version": 3
   },
   "file_extension": ".py",
   "mimetype": "text/x-python",
   "name": "python",
   "nbconvert_exporter": "python",
   "pygments_lexer": "ipython3",
   "version": "3.13.5"
  }
 },
 "nbformat": 4,
 "nbformat_minor": 5
}
